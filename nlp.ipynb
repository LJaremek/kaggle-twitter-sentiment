{
 "cells": [
  {
   "cell_type": "code",
   "execution_count": 1,
   "metadata": {},
   "outputs": [],
   "source": [
    "from time import time\n",
    "import re\n",
    "\n",
    "from sklearn.model_selection import train_test_split\n",
    "from sklearn.metrics import classification_report\n",
    "from sklearn.preprocessing import StandardScaler\n",
    "from sklearn.metrics import accuracy_score\n",
    "from nltk.stem import LancasterStemmer\n",
    "import matplotlib.pyplot as plt\n",
    "import pandas as pd\n",
    "\n",
    "# [ models for classification ]\n",
    "from sklearn.naive_bayes import GaussianNB, BernoulliNB\n",
    "from sklearn.linear_model import LogisticRegression\n",
    "from sklearn.ensemble import RandomForestClassifier\n",
    "from sklearn.neural_network import MLPClassifier\n"
   ]
  },
  {
   "cell_type": "markdown",
   "metadata": {},
   "source": [
    "# Prepearing data"
   ]
  },
  {
   "cell_type": "code",
   "execution_count": 2,
   "metadata": {},
   "outputs": [],
   "source": [
    "def read_data(file_path: str,\n",
    "              delimiter: str = \",\",\n",
    "              headers: bool = True) -> pd.DataFrame:\n",
    "    \"\"\"\n",
    "    Open .csv file with input data as pandas DataFrame.\n",
    "\n",
    "    Input:\n",
    "     * file_path: str\n",
    "     * delimieter: str = \",\" - delimiter in csv file\n",
    "     * headers: bool = True - first row as headers\n",
    "    \n",
    "    Ouput:\n",
    "     * pandas.DataFrame\n",
    "    \"\"\"\n",
    "    if headers:\n",
    "        return pd.read_csv(file_path, sep=delimiter)\n",
    "    return pd.read_csv(file_path, sep=delimiter, header=None)\n",
    "\n",
    "\n",
    "def flat_lists(sentences_list: list[list[str]]) -> list[str]:\n",
    "    \"\"\"\n",
    "    Transform list with list with words to list with words.\n",
    "\n",
    "    Input:\n",
    "     * sentences_list: list[list[str]]\n",
    "    \n",
    "    Output:\n",
    "     * list[str]\n",
    "    \n",
    "    Example:\n",
    "        Input:\n",
    "         * [[\"Hello\", \"darknes\"], \n",
    "            [\"my\", \"old\", \"friend\"]]\n",
    "        Output:\n",
    "         * [\"Hello\", \"darknes\", \"my\", \"old\", \"friend\"]\n",
    "    \"\"\"\n",
    "    words = []\n",
    "    for sentence in sentences_list:\n",
    "        words += sentence\n",
    "    return words\n"
   ]
  },
  {
   "cell_type": "code",
   "execution_count": 3,
   "metadata": {},
   "outputs": [
    {
     "name": "stdout",
     "output_type": "stream",
     "text": [
      "                 tweet_id airline_sentiment  airline_sentiment_confidence  \\\n",
      "0      570306133677760513           neutral                        1.0000   \n",
      "1      570301130888122368          positive                        0.3486   \n",
      "2      570301083672813571           neutral                        0.6837   \n",
      "3      570301031407624196          negative                        1.0000   \n",
      "4      570300817074462722          negative                        1.0000   \n",
      "...                   ...               ...                           ...   \n",
      "14635  569587686496825344          positive                        0.3487   \n",
      "14636  569587371693355008          negative                        1.0000   \n",
      "14637  569587242672398336           neutral                        1.0000   \n",
      "14638  569587188687634433          negative                        1.0000   \n",
      "14639  569587140490866689           neutral                        0.6771   \n",
      "\n",
      "               negativereason  negativereason_confidence         airline  \\\n",
      "0                         NaN                        NaN  Virgin America   \n",
      "1                         NaN                     0.0000  Virgin America   \n",
      "2                         NaN                        NaN  Virgin America   \n",
      "3                  Bad Flight                     0.7033  Virgin America   \n",
      "4                  Can't Tell                     1.0000  Virgin America   \n",
      "...                       ...                        ...             ...   \n",
      "14635                     NaN                     0.0000        American   \n",
      "14636  Customer Service Issue                     1.0000        American   \n",
      "14637                     NaN                        NaN        American   \n",
      "14638  Customer Service Issue                     0.6659        American   \n",
      "14639                     NaN                     0.0000        American   \n",
      "\n",
      "      airline_sentiment_gold             name negativereason_gold  \\\n",
      "0                        NaN          cairdin                 NaN   \n",
      "1                        NaN         jnardino                 NaN   \n",
      "2                        NaN       yvonnalynn                 NaN   \n",
      "3                        NaN         jnardino                 NaN   \n",
      "4                        NaN         jnardino                 NaN   \n",
      "...                      ...              ...                 ...   \n",
      "14635                    NaN  KristenReenders                 NaN   \n",
      "14636                    NaN         itsropes                 NaN   \n",
      "14637                    NaN         sanyabun                 NaN   \n",
      "14638                    NaN       SraJackson                 NaN   \n",
      "14639                    NaN        daviddtwu                 NaN   \n",
      "\n",
      "       retweet_count                                               text  \\\n",
      "0                  0                @VirginAmerica What @dhepburn said.   \n",
      "1                  0  @VirginAmerica plus you've added commercials t...   \n",
      "2                  0  @VirginAmerica I didn't today... Must mean I n...   \n",
      "3                  0  @VirginAmerica it's really aggressive to blast...   \n",
      "4                  0  @VirginAmerica and it's a really big bad thing...   \n",
      "...              ...                                                ...   \n",
      "14635              0  @AmericanAir thank you we got on a different f...   \n",
      "14636              0  @AmericanAir leaving over 20 minutes Late Flig...   \n",
      "14637              0  @AmericanAir Please bring American Airlines to...   \n",
      "14638              0  @AmericanAir you have my money, you change my ...   \n",
      "14639              0  @AmericanAir we have 8 ppl so we need 2 know h...   \n",
      "\n",
      "      tweet_coord              tweet_created tweet_location  \\\n",
      "0             NaN  2015-02-24 11:35:52 -0800            NaN   \n",
      "1             NaN  2015-02-24 11:15:59 -0800            NaN   \n",
      "2             NaN  2015-02-24 11:15:48 -0800      Lets Play   \n",
      "3             NaN  2015-02-24 11:15:36 -0800            NaN   \n",
      "4             NaN  2015-02-24 11:14:45 -0800            NaN   \n",
      "...           ...                        ...            ...   \n",
      "14635         NaN  2015-02-22 12:01:01 -0800            NaN   \n",
      "14636         NaN  2015-02-22 11:59:46 -0800          Texas   \n",
      "14637         NaN  2015-02-22 11:59:15 -0800  Nigeria,lagos   \n",
      "14638         NaN  2015-02-22 11:59:02 -0800     New Jersey   \n",
      "14639         NaN  2015-02-22 11:58:51 -0800     dallas, TX   \n",
      "\n",
      "                    user_timezone  \n",
      "0      Eastern Time (US & Canada)  \n",
      "1      Pacific Time (US & Canada)  \n",
      "2      Central Time (US & Canada)  \n",
      "3      Pacific Time (US & Canada)  \n",
      "4      Pacific Time (US & Canada)  \n",
      "...                           ...  \n",
      "14635                         NaN  \n",
      "14636                         NaN  \n",
      "14637                         NaN  \n",
      "14638  Eastern Time (US & Canada)  \n",
      "14639                         NaN  \n",
      "\n",
      "[14640 rows x 15 columns]\n"
     ]
    }
   ],
   "source": [
    "# [ loading data ]\n",
    "all_data_frame = read_data(\"data/Tweets.csv\")\n",
    "print(all_data_frame)\n"
   ]
  },
  {
   "cell_type": "code",
   "execution_count": 4,
   "metadata": {},
   "outputs": [
    {
     "name": "stdout",
     "output_type": "stream",
     "text": [
      "                                                    text\n",
      "0                    @VirginAmerica What @dhepburn said.\n",
      "1      @VirginAmerica plus you've added commercials t...\n",
      "2      @VirginAmerica I didn't today... Must mean I n...\n",
      "3      @VirginAmerica it's really aggressive to blast...\n",
      "4      @VirginAmerica and it's a really big bad thing...\n",
      "...                                                  ...\n",
      "14635  @AmericanAir thank you we got on a different f...\n",
      "14636  @AmericanAir leaving over 20 minutes Late Flig...\n",
      "14637  @AmericanAir Please bring American Airlines to...\n",
      "14638  @AmericanAir you have my money, you change my ...\n",
      "14639  @AmericanAir we have 8 ppl so we need 2 know h...\n",
      "\n",
      "[14640 rows x 1 columns]\n"
     ]
    }
   ],
   "source": [
    "# [ selecting data ]\n",
    "airline_sentiment = all_data_frame[\"airline_sentiment\"]\n",
    "\n",
    "data_frame = pd.DataFrame(\n",
    "    {\"text\": all_data_frame[\"text\"]}\n",
    "    )\n",
    "\n",
    "print(data_frame)\n"
   ]
  },
  {
   "cell_type": "code",
   "execution_count": 5,
   "metadata": {},
   "outputs": [
    {
     "data": {
      "image/png": "[encoded data removed]",
      "text/plain": [
       "<Figure size 576x504 with 1 Axes>"
      ]
     },
     "metadata": {
      "needs_background": "light"
     },
     "output_type": "display_data"
    }
   ],
   "source": [
    "sentiments = {}\n",
    "for sentiment in airline_sentiment:\n",
    "    if sentiment not in sentiments:\n",
    "        sentiments[sentiment] = 1\n",
    "    else:\n",
    "        sentiments[sentiment] += 1\n",
    "\n",
    "plt.figure(figsize=(8, 7))\n",
    "plt.bar(sentiments.keys(), sentiments.values())\n",
    "plt.title(\"Sentiment distribution in a data set\")\n",
    "plt.xlabel(\"Sentiment\")\n",
    "plt.ylabel(\"Number of tweets\")\n",
    "\n",
    "for x, y in zip(sentiments.keys(), sentiments.values()):\n",
    "    plt.text(x, y+100, str(round(y, 2)), color=\"black\", fontsize=12)\n",
    "\n",
    "plt.show()\n"
   ]
  },
  {
   "cell_type": "code",
   "execution_count": 6,
   "metadata": {},
   "outputs": [],
   "source": [
    "def clean_sentence(text: str) -> str:\n",
    "    \"\"\"\n",
    "    Cleaning the sentence from emails, hashtags and web page urls.\n",
    "\n",
    "    Input:\n",
    "     * text: str\n",
    "    \n",
    "    Output:\n",
    "     * str\n",
    "    \n",
    "    Example:\n",
    "        Input:\n",
    "         * \"Hello my #BFF, look at this <3 <3 http://virus.net\"\n",
    "        Output:\n",
    "         * \"Hello my BFF look at this\"\n",
    "    \"\"\"\n",
    "    text = re.sub(\"@[A-Za-z0-9]+\", \"\", text)\n",
    "    text = re.sub(\"#\", \"\", text)\n",
    "    text = re.sub(r\"https?:\\S+\", \"\", text)\n",
    "\n",
    "    letters = list(\" qwertyuiopasdfghjklzxcvbnmQWERTYUIOPASDFGHJKLZXCVBNM\")\n",
    "    for symbol in text:\n",
    "        if symbol not in letters:\n",
    "            text = text.replace(symbol, \"\")\n",
    "    return text\n",
    "\n",
    "\n",
    "def clean_sentences(sentences_list: list[str]) -> list[list[str]]:\n",
    "    \"\"\"\n",
    "    Cleaning sentences from special symbols and tranform it from str to list.\n",
    "    \n",
    "    Input:\n",
    "     * sentences_list: list[str] - list of sentences\n",
    "\n",
    "    Output:\n",
    "     * list[list[str]] - list of cleansed sentences (without special symbols)\n",
    "\n",
    "    Example:\n",
    "        Input: \n",
    "         * [\"Hello my World!\",\n",
    "            \"How are you?\"]\n",
    "        Output:\n",
    "             * [[\"Hello\", \"my\", \"World\"],\n",
    "                [\"How\", \"are\", \"you\"]]\n",
    "    \"\"\"\n",
    "    cleansed_sentences = []\n",
    "    for tweet in [clean_sentence(tweet).split(\" \")\n",
    "                  for tweet in sentences_list]:\n",
    "\n",
    "        cleansed_sentence = [word.strip() for word in tweet\n",
    "                             if\n",
    "                             word != \"\" and\n",
    "                             \"http\" not in word and\n",
    "                             not word.isdigit()]\n",
    "\n",
    "        cleansed_sentences.append(cleansed_sentence)\n",
    "\n",
    "    return cleansed_sentences\n"
   ]
  },
  {
   "cell_type": "code",
   "execution_count": 7,
   "metadata": {},
   "outputs": [
    {
     "name": "stdout",
     "output_type": "stream",
     "text": [
      "                                                    text\n",
      "0                                           [What, said]\n",
      "1      [plus, youve, added, commercials, to, the, exp...\n",
      "2      [I, didnt, today, Must, mean, I, need, to, tak...\n",
      "3      [its, really, aggressive, to, blast, obnoxious...\n",
      "4      [and, its, a, really, big, bad, thing, about, it]\n",
      "...                                                  ...\n",
      "14635  [thank, you, we, got, on, a, different, flight...\n",
      "14636  [leaving, over, minutes, Late, Flight, No, war...\n",
      "14637  [Please, bring, American, Airlines, to, BlackB...\n",
      "14638  [you, have, my, money, you, change, my, flight...\n",
      "14639  [we, have, ppl, so, we, need, know, how, many,...\n",
      "\n",
      "[14640 rows x 1 columns]\n"
     ]
    }
   ],
   "source": [
    "# [ data cleaning ]\n",
    "cleaned_data_frame = pd.DataFrame(\n",
    "    {\"text\": clean_sentences(data_frame[\"text\"])}\n",
    "    )\n",
    "\n",
    "cleansed_words = flat_lists(cleaned_data_frame[\"text\"])\n",
    "\n",
    "print(cleaned_data_frame)\n"
   ]
  },
  {
   "cell_type": "code",
   "execution_count": 8,
   "metadata": {},
   "outputs": [],
   "source": [
    "def lemmatization_sentence(sentence: list[str],\n",
    "                           lancaster: LancasterStemmer) -> list[str]:\n",
    "    \"\"\"\n",
    "    Lemmatization of sentence using given lancaster.\n",
    "\n",
    "    Input:\n",
    "     * sentence: list[str]\n",
    "     * lancaster: LancasterStemmer\n",
    "    \n",
    "    Output:\n",
    "     * list[str]\n",
    "    \n",
    "    Example:\n",
    "        Input:\n",
    "         * [\"I\", \"have\", \"a\", \"really\", \"sweet\", \"kitty\"]\n",
    "        Output:\n",
    "         * [\"i\", \"hav\", \"a\", \"real\", \"sweet\", \"kit\"]\n",
    "    \"\"\"\n",
    "    return [lancaster.stem(word) for word in sentence]\n",
    "\n",
    "\n",
    "def lemmatization_sentences(sentences: list[list[str]],\n",
    "                            lancaster: LancasterStemmer) -> list[list[str]]:\n",
    "    \"\"\"\n",
    "    Lemmatization list of sentences using given lancaster.\n",
    "\n",
    "    Input:\n",
    "     * sentence: list[list[str]]\n",
    "     * lancaster: LancasterStemmer\n",
    "    \n",
    "    Output:     \n",
    "     * list[str]\n",
    "    \"\"\"\n",
    "    return [lemmatization_sentence(sentence, lancaster) for sentence in sentences]\n"
   ]
  },
  {
   "cell_type": "code",
   "execution_count": 9,
   "metadata": {},
   "outputs": [
    {
     "name": "stdout",
     "output_type": "stream",
     "text": [
      "                                                    text\n",
      "0                                           [what, said]\n",
      "1       [plu, youv, ad, commerc, to, the, expery, tacky]\n",
      "2      [i, didnt, today, must, mean, i, nee, to, tak,...\n",
      "3      [it, real, aggress, to, blast, obnoxy, enterta...\n",
      "4         [and, it, a, real, big, bad, thing, about, it]\n",
      "...                                                  ...\n",
      "14635  [thank, you, we, got, on, a, diff, flight, to,...\n",
      "14636  [leav, ov, minut, lat, flight, no, warn, or, c...\n",
      "14637         [pleas, bring, am, airlin, to, blackberry]\n",
      "14638  [you, hav, my, money, you, chang, my, flight, ...\n",
      "14639  [we, hav, ppl, so, we, nee, know, how, many, s...\n",
      "\n",
      "[14640 rows x 1 columns]\n"
     ]
    }
   ],
   "source": [
    "# [ data lemmatization ]\n",
    "lancaster = LancasterStemmer()\n",
    "\n",
    "stemmed_data_frame = pd.DataFrame(\n",
    "    {\"text\": lemmatization_sentences(cleaned_data_frame[\"text\"], lancaster)}\n",
    "    )\n",
    "\n",
    "print(stemmed_data_frame)\n"
   ]
  },
  {
   "cell_type": "code",
   "execution_count": 10,
   "metadata": {},
   "outputs": [
    {
     "name": "stdout",
     "output_type": "stream",
     "text": [
      "Counf of stemmed words: 233344\n",
      "['malcom', 'throne', 'gopatriot', 'awhil', 'plu', 'servicelook', 'screens', 'surveyemail', 'muc', 'acarlcom', 'banan', 'pia', 'waitin', 'forev', 'pricew', 'minno', 'bitchy', 'delh', 'havin', 'dee', 'cxp', 'daynot', 'woe', 'onal', 'ho', 'lord', 'cxldprotection', 'phoneon', 'tast', 'delinqu', 'lindsey', 'wop', 'thrown', 'ahhhhh', 'spf', 'nw', 'rang', 'wail', 'helpunitedsuck', 'pleasecomeback', 'bord', 'neverflyusairway', 'unitedairlin', 'iceday', 'strategy', 'billmel', 'aerojobmarket', 'alb', 'agoyet', 'nftyconvention', 'againget', 'waiverskeep', 'gee', 'angstiest', 'tiredampfrust', 'fals', 'mdwfll', 'hourdelay', 'poison', 'minsampput', 'annount', 'bound', 'lasd', 'dissatisfy', 'destin', 'wontflyagainwithyou', 'prank', 'vaileagl', 'lightyear', 'beatz', 'foldup', 'employeefaceless', 'flip', 'mon', 'actua', 'fouryrold', 'did', 'stillwait', 'brrr', 'wantmymoneyback', 'savethoses', 'awrd', 'lifest', 'callguy', 'gary', 'bestinclasssoc', 'bright', 'impressedand', 'dobetterjetblu', 'writ', 'cosmet', 'dayc', 'h', 'struts', 'lav', 'usingthisword', 'hiccup', 'siv', 'usairhead', 'mug']\n"
     ]
    }
   ],
   "source": [
    "# [ creating bag of words ]\n",
    "stemmed_words = flat_lists(stemmed_data_frame[\"text\"])\n",
    "bag_of_words = list(set(stemmed_words))\n",
    "\n",
    "print(\"Counf of stemmed words:\", len(stemmed_words))\n",
    "print(bag_of_words[:100])\n"
   ]
  },
  {
   "cell_type": "code",
   "execution_count": 11,
   "metadata": {},
   "outputs": [],
   "source": [
    "def sentence_coding(sentence: list[str],\n",
    "                    bag_of_words: list[str]) -> list[bool]:\n",
    "    \"\"\"\n",
    "    Code the given sentence using given baf of words.\n",
    "\n",
    "    Input:\n",
    "     * sentence: list[str]\n",
    "     * bag_of_words: list[str]\n",
    "    \n",
    "    Output:\n",
    "     * list[bool]\n",
    "    \n",
    "    Example:\n",
    "        Input:\n",
    "         * [\"I\", \"have\", \"dog\"]\n",
    "         * [\"dog\", \"cat\", \"have\", \"i\", \"he\", \"car\"]\n",
    "        Output:\n",
    "         * [True, False, True, True, False, False]\n",
    "    \"\"\"\n",
    "    return [1 if word in sentence else 0 for word in bag_of_words]\n",
    "\n",
    "\n",
    "def sentences_coding(sentences: list[list[str]],\n",
    "                     bag_of_words: list[str]) -> list[bool]:\n",
    "    \"\"\"\n",
    "    Code the given list of sentences using given baf of words.\n",
    "\n",
    "    Input:\n",
    "     * sentence: list[list[str]]\n",
    "     * bag_of_words: list[str]\n",
    "    \n",
    "    Output:\n",
    "     * list[bool]\n",
    "    \"\"\"\n",
    "    return [sentence_coding(sentence, bag_of_words) for sentence in sentences]\n"
   ]
  },
  {
   "cell_type": "code",
   "execution_count": 12,
   "metadata": {},
   "outputs": [
    {
     "name": "stdout",
     "output_type": "stream",
     "text": [
      "       0     1     2     3     4     5     6     7     8     9     ...  8997  \\\n",
      "0         0     0     0     0     0     0     0     0     0     0  ...     0   \n",
      "1         0     0     0     0     1     0     0     0     0     0  ...     0   \n",
      "2         0     0     0     0     0     0     0     0     0     0  ...     0   \n",
      "3         0     0     0     0     0     0     0     0     0     0  ...     0   \n",
      "4         0     0     0     0     0     0     0     0     0     0  ...     0   \n",
      "...     ...   ...   ...   ...   ...   ...   ...   ...   ...   ...  ...   ...   \n",
      "14635     0     0     0     0     0     0     0     0     0     0  ...     0   \n",
      "14636     0     0     0     0     0     0     0     0     0     0  ...     0   \n",
      "14637     0     0     0     0     0     0     0     0     0     0  ...     0   \n",
      "14638     0     0     0     0     0     0     0     0     0     0  ...     0   \n",
      "14639     0     0     0     0     0     0     0     0     0     0  ...     0   \n",
      "\n",
      "       8998  8999  9000  9001  9002  9003  9004  9005  9006  \n",
      "0         0     0     0     0     0     0     0     0     0  \n",
      "1         0     0     0     0     0     0     0     0     0  \n",
      "2         0     0     0     0     0     0     0     0     0  \n",
      "3         0     0     0     0     0     0     0     0     0  \n",
      "4         0     0     0     0     0     0     0     0     0  \n",
      "...     ...   ...   ...   ...   ...   ...   ...   ...   ...  \n",
      "14635     0     0     0     0     0     0     0     0     0  \n",
      "14636     0     0     0     0     0     0     0     0     0  \n",
      "14637     0     0     0     0     0     0     0     0     0  \n",
      "14638     0     0     0     0     0     0     0     0     0  \n",
      "14639     0     0     0     0     0     0     0     0     0  \n",
      "\n",
      "[14640 rows x 9007 columns]\n"
     ]
    }
   ],
   "source": [
    "# [ change words for numbers ]\n",
    "coded_data_frame = pd.DataFrame(\n",
    "   sentences_coding(stemmed_data_frame[\"text\"], bag_of_words)\n",
    "    )\n",
    "\n",
    "print(coded_data_frame)\n"
   ]
  },
  {
   "cell_type": "code",
   "execution_count": 13,
   "metadata": {},
   "outputs": [
    {
     "name": "stdout",
     "output_type": "stream",
     "text": [
      "           0         1         2         3          4         5         6     \\\n",
      "0     -0.008265 -0.008265 -0.008265 -0.011689  -0.063611 -0.008265 -0.016532   \n",
      "1     -0.008265 -0.008265 -0.008265 -0.011689  15.720547 -0.008265 -0.016532   \n",
      "2     -0.008265 -0.008265 -0.008265 -0.011689  -0.063611 -0.008265 -0.016532   \n",
      "3     -0.008265 -0.008265 -0.008265 -0.011689  -0.063611 -0.008265 -0.016532   \n",
      "4     -0.008265 -0.008265 -0.008265 -0.011689  -0.063611 -0.008265 -0.016532   \n",
      "...         ...       ...       ...       ...        ...       ...       ...   \n",
      "14635 -0.008265 -0.008265 -0.008265 -0.011689  -0.063611 -0.008265 -0.016532   \n",
      "14636 -0.008265 -0.008265 -0.008265 -0.011689  -0.063611 -0.008265 -0.016532   \n",
      "14637 -0.008265 -0.008265 -0.008265 -0.011689  -0.063611 -0.008265 -0.016532   \n",
      "14638 -0.008265 -0.008265 -0.008265 -0.011689  -0.063611 -0.008265 -0.016532   \n",
      "14639 -0.008265 -0.008265 -0.008265 -0.011689  -0.063611 -0.008265 -0.016532   \n",
      "\n",
      "           7         8         9     ...      8997      8998      8999  \\\n",
      "0     -0.008265 -0.008265 -0.008265  ... -0.008265 -0.008265 -0.026144   \n",
      "1     -0.008265 -0.008265 -0.008265  ... -0.008265 -0.008265 -0.026144   \n",
      "2     -0.008265 -0.008265 -0.008265  ... -0.008265 -0.008265 -0.026144   \n",
      "3     -0.008265 -0.008265 -0.008265  ... -0.008265 -0.008265 -0.026144   \n",
      "4     -0.008265 -0.008265 -0.008265  ... -0.008265 -0.008265 -0.026144   \n",
      "...         ...       ...       ...  ...       ...       ...       ...   \n",
      "14635 -0.008265 -0.008265 -0.008265  ... -0.008265 -0.008265 -0.026144   \n",
      "14636 -0.008265 -0.008265 -0.008265  ... -0.008265 -0.008265 -0.026144   \n",
      "14637 -0.008265 -0.008265 -0.008265  ... -0.008265 -0.008265 -0.026144   \n",
      "14638 -0.008265 -0.008265 -0.008265  ... -0.008265 -0.008265 -0.026144   \n",
      "14639 -0.008265 -0.008265 -0.008265  ... -0.008265 -0.008265 -0.026144   \n",
      "\n",
      "           9000      9001      9002      9003      9004      9005      9006  \n",
      "0     -0.052994 -0.008265 -0.016532 -0.292386 -0.008265 -0.014316 -0.011689  \n",
      "1     -0.052994 -0.008265 -0.016532 -0.292386 -0.008265 -0.014316 -0.011689  \n",
      "2     -0.052994 -0.008265 -0.016532 -0.292386 -0.008265 -0.014316 -0.011689  \n",
      "3     -0.052994 -0.008265 -0.016532 -0.292386 -0.008265 -0.014316 -0.011689  \n",
      "4     -0.052994 -0.008265 -0.016532 -0.292386 -0.008265 -0.014316 -0.011689  \n",
      "...         ...       ...       ...       ...       ...       ...       ...  \n",
      "14635 -0.052994 -0.008265 -0.016532 -0.292386 -0.008265 -0.014316 -0.011689  \n",
      "14636 -0.052994 -0.008265 -0.016532 -0.292386 -0.008265 -0.014316 -0.011689  \n",
      "14637 -0.052994 -0.008265 -0.016532 -0.292386 -0.008265 -0.014316 -0.011689  \n",
      "14638 -0.052994 -0.008265 -0.016532 -0.292386 -0.008265 -0.014316 -0.011689  \n",
      "14639 -0.052994 -0.008265 -0.016532 -0.292386 -0.008265 -0.014316 -0.011689  \n",
      "\n",
      "[14640 rows x 9007 columns]\n"
     ]
    }
   ],
   "source": [
    "# [ data normalization by columns (words) ]\n",
    "scaler = StandardScaler()\n",
    "\n",
    "normal_data_frame = pd.DataFrame(\n",
    "    scaler.fit_transform(coded_data_frame)\n",
    "    )\n",
    "\n",
    "print(normal_data_frame)\n"
   ]
  },
  {
   "cell_type": "code",
   "execution_count": 14,
   "metadata": {},
   "outputs": [],
   "source": [
    "# [ splitting the data into training data and test data ]\n",
    "X_train, X_test, y_train, y_test = train_test_split(\n",
    "    normal_data_frame,\n",
    "    airline_sentiment,\n",
    "    test_size=0.2\n",
    "    )\n"
   ]
  },
  {
   "cell_type": "markdown",
   "metadata": {},
   "source": [
    "# MLPClassifier"
   ]
  },
  {
   "cell_type": "code",
   "execution_count": 15,
   "metadata": {},
   "outputs": [],
   "source": [
    "mlp_classifier = MLPClassifier(\n",
    "    hidden_layer_sizes=(150, 200, 150, 100, 50),\n",
    "    batch_size=200,\n",
    "    max_iter=400,\n",
    "    random_state=1,\n",
    "    learning_rate_init=0.01)\n"
   ]
  },
  {
   "cell_type": "code",
   "execution_count": 16,
   "metadata": {},
   "outputs": [],
   "source": [
    "start = time()\n",
    "mlp_classifier.fit(X_train, y_train)\n",
    "mlp_time = time() - start\n"
   ]
  },
  {
   "cell_type": "code",
   "execution_count": 17,
   "metadata": {},
   "outputs": [],
   "source": [
    "mlp_y_pred = mlp_classifier.predict(X_test)\n"
   ]
  },
  {
   "cell_type": "code",
   "execution_count": 18,
   "metadata": {},
   "outputs": [
    {
     "name": "stdout",
     "output_type": "stream",
     "text": [
      "              precision    recall  f1-score   support\n",
      "\n",
      "    negative       0.82      0.84      0.83      1823\n",
      "     neutral       0.49      0.50      0.49       631\n",
      "    positive       0.64      0.57      0.60       474\n",
      "\n",
      "    accuracy                           0.72      2928\n",
      "   macro avg       0.65      0.63      0.64      2928\n",
      "weighted avg       0.72      0.72      0.72      2928\n",
      "\n"
     ]
    }
   ],
   "source": [
    "print(classification_report(y_test, mlp_y_pred))\n",
    "mlp_acc = accuracy_score(y_test, mlp_y_pred)\n"
   ]
  },
  {
   "cell_type": "markdown",
   "metadata": {},
   "source": [
    "# RandomForestClassifier"
   ]
  },
  {
   "cell_type": "code",
   "execution_count": 19,
   "metadata": {},
   "outputs": [],
   "source": [
    "rf_classifier = RandomForestClassifier()\n"
   ]
  },
  {
   "cell_type": "code",
   "execution_count": 20,
   "metadata": {},
   "outputs": [],
   "source": [
    "start = time()\n",
    "rf_classifier.fit(X_train, y_train)\n",
    "rf_time = time() - start\n"
   ]
  },
  {
   "cell_type": "code",
   "execution_count": 21,
   "metadata": {},
   "outputs": [],
   "source": [
    "rf_y_pred = rf_classifier.predict(X_test)\n"
   ]
  },
  {
   "cell_type": "code",
   "execution_count": 22,
   "metadata": {},
   "outputs": [
    {
     "name": "stdout",
     "output_type": "stream",
     "text": [
      "              precision    recall  f1-score   support\n",
      "\n",
      "    negative       0.76      0.96      0.85      1823\n",
      "     neutral       0.71      0.40      0.51       631\n",
      "    positive       0.81      0.46      0.59       474\n",
      "\n",
      "    accuracy                           0.76      2928\n",
      "   macro avg       0.76      0.61      0.65      2928\n",
      "weighted avg       0.76      0.76      0.73      2928\n",
      "\n"
     ]
    }
   ],
   "source": [
    "print(classification_report(y_test, rf_y_pred))\n",
    "rf_acc = accuracy_score(y_test, rf_y_pred)\n"
   ]
  },
  {
   "cell_type": "markdown",
   "metadata": {},
   "source": [
    "# GaussianNB"
   ]
  },
  {
   "cell_type": "code",
   "execution_count": 23,
   "metadata": {},
   "outputs": [],
   "source": [
    "gauss_model = GaussianNB()\n"
   ]
  },
  {
   "cell_type": "code",
   "execution_count": 24,
   "metadata": {},
   "outputs": [],
   "source": [
    "start = time()\n",
    "gauss_model.fit(X_train, y_train)\n",
    "gauss_time = time() - start\n"
   ]
  },
  {
   "cell_type": "code",
   "execution_count": 25,
   "metadata": {},
   "outputs": [],
   "source": [
    "gauss_model_y_pred = gauss_model.predict(X_test)\n"
   ]
  },
  {
   "cell_type": "code",
   "execution_count": 26,
   "metadata": {},
   "outputs": [
    {
     "name": "stdout",
     "output_type": "stream",
     "text": [
      "              precision    recall  f1-score   support\n",
      "\n",
      "    negative       0.81      0.37      0.51      1823\n",
      "     neutral       0.25      0.24      0.25       631\n",
      "    positive       0.23      0.73      0.35       474\n",
      "\n",
      "    accuracy                           0.40      2928\n",
      "   macro avg       0.43      0.45      0.37      2928\n",
      "weighted avg       0.59      0.40      0.43      2928\n",
      "\n"
     ]
    }
   ],
   "source": [
    "print(classification_report(y_test, gauss_model_y_pred))\n",
    "gauss_acc = accuracy_score(y_test, gauss_model_y_pred)\n"
   ]
  },
  {
   "cell_type": "markdown",
   "metadata": {},
   "source": [
    "# BernoulliNB"
   ]
  },
  {
   "cell_type": "code",
   "execution_count": 27,
   "metadata": {},
   "outputs": [],
   "source": [
    "bernoulli_model = BernoulliNB()\n"
   ]
  },
  {
   "cell_type": "code",
   "execution_count": 28,
   "metadata": {},
   "outputs": [],
   "source": [
    "start = time()\n",
    "bernoulli_model.fit(X_train, y_train)\n",
    "bernoulli_time = time() - start\n"
   ]
  },
  {
   "cell_type": "code",
   "execution_count": 29,
   "metadata": {},
   "outputs": [],
   "source": [
    "bernoulli_model_y_pred = bernoulli_model.predict(X_test)\n"
   ]
  },
  {
   "cell_type": "code",
   "execution_count": 30,
   "metadata": {},
   "outputs": [
    {
     "name": "stdout",
     "output_type": "stream",
     "text": [
      "              precision    recall  f1-score   support\n",
      "\n",
      "    negative       0.82      0.93      0.87      1823\n",
      "     neutral       0.64      0.53      0.58       631\n",
      "    positive       0.77      0.55      0.64       474\n",
      "\n",
      "    accuracy                           0.78      2928\n",
      "   macro avg       0.74      0.67      0.70      2928\n",
      "weighted avg       0.77      0.78      0.77      2928\n",
      "\n"
     ]
    }
   ],
   "source": [
    "print(classification_report(y_test, bernoulli_model_y_pred))\n",
    "bernoulli_acc = accuracy_score(y_test, bernoulli_model_y_pred)\n"
   ]
  },
  {
   "cell_type": "markdown",
   "metadata": {},
   "source": [
    "# LogisticRegression"
   ]
  },
  {
   "cell_type": "code",
   "execution_count": 31,
   "metadata": {},
   "outputs": [
    {
     "name": "stderr",
     "output_type": "stream",
     "text": [
      "C:\\Users\\Jarem\\AppData\\Roaming\\Python\\Python39\\site-packages\\sklearn\\linear_model\\_logistic.py:814: ConvergenceWarning: lbfgs failed to converge (status=1):\n",
      "STOP: TOTAL NO. of ITERATIONS REACHED LIMIT.\n",
      "\n",
      "Increase the number of iterations (max_iter) or scale the data as shown in:\n",
      "    https://scikit-learn.org/stable/modules/preprocessing.html\n",
      "Please also refer to the documentation for alternative solver options:\n",
      "    https://scikit-learn.org/stable/modules/linear_model.html#logistic-regression\n",
      "  n_iter_i = _check_optimize_result(\n"
     ]
    }
   ],
   "source": [
    "logreg = LogisticRegression()\n",
    "\n",
    "start = time()\n",
    "logreg.fit(X_train, y_train)\n",
    "logreg_time = time() - start\n"
   ]
  },
  {
   "cell_type": "code",
   "execution_count": 32,
   "metadata": {},
   "outputs": [
    {
     "name": "stdout",
     "output_type": "stream",
     "text": [
      "Logistic Regression accuracy: 0.6683743169398907\n"
     ]
    }
   ],
   "source": [
    "logreg_acc = logreg.score(X_test, y_test)\n",
    "\n",
    "print(\"Logistic Regression accuracy:\", logreg_acc)\n"
   ]
  },
  {
   "cell_type": "markdown",
   "metadata": {},
   "source": [
    "# Plotting"
   ]
  },
  {
   "cell_type": "code",
   "execution_count": 33,
   "metadata": {},
   "outputs": [],
   "source": [
    "plot_data = {\n",
    "    \"x\":      [\"Bernoulli\", \"RF\", \"MLP\", \"LogReg\", \"Gaussian\"],\n",
    "    \"y_acc\":  [bernoulli_acc,  rf_acc, mlp_acc, logreg_acc, gauss_acc],\n",
    "    \"y_time\": [bernoulli_time, rf_time, mlp_time, logreg_time, gauss_time]\n",
    "}\n"
   ]
  },
  {
   "cell_type": "code",
   "execution_count": 34,
   "metadata": {},
   "outputs": [
    {
     "data": {
      "image/png": "[encoded data removed]",
      "text/plain": [
       "<Figure size 756x756 with 2 Axes>"
      ]
     },
     "metadata": {
      "needs_background": "light"
     },
     "output_type": "display_data"
    }
   ],
   "source": [
    "fig, axs = plt.subplots(2)\n",
    "fig.set_size_inches(10.5, 10.5)\n",
    "axs[0].set_title(\"Accuracy and training time\\nin various classifications\", fontsize=22)\n",
    "\n",
    "axs[0].plot(plot_data[\"x\"], plot_data[\"y_acc\"], \"-o\", color=\"red\", label=\"Accuracy\")\n",
    "axs[0].set_ylim([0.0, 1.0])\n",
    "\n",
    "for x, y in zip(plot_data[\"x\"], plot_data[\"y_acc\"]):\n",
    "    axs[0].text(x, y+0.02, str(round(y, 2)), color=\"red\", fontsize=12)\n",
    "\n",
    "axs[0].legend(loc=0)\n",
    "axs[0].set_xlabel(\"Type of classification\")\n",
    "axs[0].set_ylabel(\"Accuracy\")\n",
    "\n",
    "axs[1].plot(plot_data[\"x\"], plot_data[\"y_time\"], \"-o\", label=\"Training time\")\n",
    "axs[1].legend(loc=0)\n",
    "axs[1].set_xlabel(\"Type of classification\")\n",
    "axs[1].set_ylabel(\"Training time [s]\")\n",
    "\n",
    "plt.show()\n"
   ]
  }
 ],
 "metadata": {
  "interpreter": {
   "hash": "ac59ebe37160ed0dfa835113d9b8498d9f09ceb179beaac4002f036b9467c963"
  },
  "kernelspec": {
   "display_name": "Python 3.9.9 64-bit",
   "language": "python",
   "name": "python3"
  },
  "language_info": {
   "codemirror_mode": {
    "name": "ipython",
    "version": 3
   },
   "file_extension": ".py",
   "mimetype": "text/x-python",
   "name": "python",
   "nbconvert_exporter": "python",
   "pygments_lexer": "ipython3",
   "version": "3.9.9"
  },
  "orig_nbformat": 4
 },
 "nbformat": 4,
 "nbformat_minor": 2
}
